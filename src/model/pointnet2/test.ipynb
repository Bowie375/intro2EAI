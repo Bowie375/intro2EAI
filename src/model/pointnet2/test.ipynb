{
 "cells": [
  {
   "cell_type": "code",
   "execution_count": 9,
   "metadata": {},
   "outputs": [],
   "source": [
    "import torch\n",
    "import torch.nn as nn\n",
    "import torch.nn.functional as F\n",
    "import numpy as np"
   ]
  },
  {
   "cell_type": "code",
   "execution_count": 3,
   "metadata": {},
   "outputs": [],
   "source": [
    "x = torch.randn(16, 1024, 3)\n",
    "fc = nn.Linear(3, 64)\n",
    "y = fc(x)"
   ]
  },
  {
   "cell_type": "code",
   "execution_count": 5,
   "metadata": {},
   "outputs": [],
   "source": [
    "bn1 = nn.BatchNorm1d(1024)\n",
    "y1 = bn1(y)"
   ]
  },
  {
   "cell_type": "code",
   "execution_count": 21,
   "metadata": {},
   "outputs": [],
   "source": [
    "bn2 = nn.BatchNorm2d(1024)\n",
    "y2 = bn2(y.unsqueeze(-1))"
   ]
  },
  {
   "cell_type": "code",
   "execution_count": 22,
   "metadata": {},
   "outputs": [
    {
     "name": "stdout",
     "output_type": "stream",
     "text": [
      "[ 0.02644335  0.02484627  0.02304782 ... -0.01366307  0.04168909\n",
      "  0.01691286]\n",
      "[ 0.00264434  0.00248463  0.00230478 ... -0.00136631  0.00416891\n",
      "  0.00169129]\n"
     ]
    }
   ],
   "source": [
    "print(y.transpose(0,1).flatten(1).mean(1).detach().numpy())\n",
    "print(bn2.running_mean.data.detach().numpy())"
   ]
  }
 ],
 "metadata": {
  "kernelspec": {
   "display_name": "EAI",
   "language": "python",
   "name": "python3"
  },
  "language_info": {
   "codemirror_mode": {
    "name": "ipython",
    "version": 3
   },
   "file_extension": ".py",
   "mimetype": "text/x-python",
   "name": "python",
   "nbconvert_exporter": "python",
   "pygments_lexer": "ipython3",
   "version": "3.10.16"
  }
 },
 "nbformat": 4,
 "nbformat_minor": 2
}
